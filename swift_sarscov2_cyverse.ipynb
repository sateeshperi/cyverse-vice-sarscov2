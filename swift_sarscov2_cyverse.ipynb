{
 "cells": [
  {
   "cell_type": "markdown",
   "id": "powered-brunswick",
   "metadata": {},
   "source": [
    "# Swift Sarscov2 analysis Notebook"
   ]
  },
  {
   "cell_type": "markdown",
   "id": "particular-nightlife",
   "metadata": {},
   "source": [
    "![logo](https://github.com/sateeshperi/cyverse-vice-sarscov2/blob/main/src_files/cyverse_logo.png)"
   ]
  },
  {
   "cell_type": "markdown",
   "id": "multiple-heath",
   "metadata": {},
   "source": [
    "### Swift Normalase® Amplicon SARS-CoV-2 Panel (SNAP) Dockerized Data Analysis Guidelines"
   ]
  },
  {
   "cell_type": "markdown",
   "id": "physical-interest",
   "metadata": {},
   "source": [
    "![workflow](https://github.com/sateeshperi/cyverse-vice-sarscov2/blob/main/src_files/workflow.png)"
   ]
  },
  {
   "cell_type": "markdown",
   "id": "monthly-wallet",
   "metadata": {},
   "source": [
    "### Steps to Run Analysis:"
   ]
  },
  {
   "cell_type": "markdown",
   "id": "selective-heating",
   "metadata": {},
   "source": [
    "1) Download the Swift Sarscov2 analysis reference sequences from CyVerse Data-Store"
   ]
  },
  {
   "cell_type": "code",
   "execution_count": 6,
   "id": "british-boston",
   "metadata": {},
   "outputs": [],
   "source": [
    "%%bash\n",
    "iget -K -r /iplant/home/shared/iplantcollaborative/example_data/swift_sarscov2_ref_genomes"
   ]
  },
  {
   "cell_type": "markdown",
   "id": "metropolitan-journalist",
   "metadata": {},
   "source": [
    "2) Download FASTQ files of samples"
   ]
  },
  {
   "cell_type": "code",
   "execution_count": null,
   "id": "religious-queue",
   "metadata": {},
   "outputs": [],
   "source": [
    "%%bash\n",
    "iget -K -r "
   ]
  },
  {
   "cell_type": "markdown",
   "id": "remarkable-marking",
   "metadata": {},
   "source": [
    "3) Run the Pipeline for **metrics coverage**"
   ]
  },
  {
   "cell_type": "code",
   "execution_count": null,
   "id": "stupid-argument",
   "metadata": {},
   "outputs": [],
   "source": [
    "%%bash\n",
    "bash run_swift_sarscov2_conda.sh -m sarscov2_v2_masterfile.txt"
   ]
  },
  {
   "cell_type": "markdown",
   "id": "recorded-demonstration",
   "metadata": {},
   "source": [
    "4) Run the pipeline with full **variant-calling workflow**"
   ]
  },
  {
   "cell_type": "code",
   "execution_count": null,
   "id": "authorized-kitchen",
   "metadata": {},
   "outputs": [],
   "source": [
    "%%bash\n",
    "bash run_swift_sarscov2_conda.sh -v sarscov2_v2_masterfile.txt"
   ]
  },
  {
   "cell_type": "markdown",
   "id": "iraqi-alloy",
   "metadata": {},
   "source": [
    "-------------------"
   ]
  },
  {
   "cell_type": "markdown",
   "id": "progressive-omaha",
   "metadata": {},
   "source": [
    "### Understanding Pipeline Results and Output\n",
    "Below is a summary of pipeline example results and outputs. The three “run-level” (all samples summary) reports for quick results are:\n",
    "\n",
    "1. The Excel file summarizes panel performance for metrics, including `%Aligned`, `PCT_10X`, `Mean_Coverage`, `%Coverage Uniformity`, `%Dimers`, and `%Human_Aligned`.\n",
    "2. Nextclade clade (lineage) identification report.\n",
    "3. Pangolin variant designation report"
   ]
  },
  {
   "cell_type": "markdown",
   "id": "christian-accent",
   "metadata": {},
   "source": [
    "#### Additional “per sample” result files and their respective folder/directory (dirname/) are as follows:\n",
    "+ Fastqc (.html): fastqc/\n",
    "+ Alignment files (.bam & .bai): bam/\n",
    "+ Picard target PCR metrics (.txt): metrics/\n",
    "+ Per-amplicon coverage plots (.pdf): plots/\n",
    "+ GATK HaplotypeCaller variant call files (*gatkHC.vcf): vcf/\n",
    "+ Bcftools consensus fasta (.fa): consensus/\n",
    "+ Nextclade and Pangolin QC (.csv): nextclade/, pangolin/\n",
    "+ Standard out from each processing step is saved with respective tool’s name appended log file which can be found in the logs/ folder."
   ]
  }
 ],
 "metadata": {
  "kernelspec": {
   "display_name": "Python 3",
   "language": "python",
   "name": "python3"
  },
  "language_info": {
   "codemirror_mode": {
    "name": "ipython",
    "version": 3
   },
   "file_extension": ".py",
   "mimetype": "text/x-python",
   "name": "python",
   "nbconvert_exporter": "python",
   "pygments_lexer": "ipython3",
   "version": "3.8.5"
  }
 },
 "nbformat": 4,
 "nbformat_minor": 5
}

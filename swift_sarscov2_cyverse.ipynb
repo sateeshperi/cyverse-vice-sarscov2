{
 "cells": [
  {
   "cell_type": "markdown",
   "id": "incident-protein",
   "metadata": {},
   "source": [
    "# Swift Sarscov2 analysis Notebook"
   ]
  },
  {
   "cell_type": "markdown",
   "id": "hydraulic-toddler",
   "metadata": {},
   "source": [
    "![](https://raw.githubusercontent.com/sateeshperi/cyverse-vice-sarscov2/main/src_files/cyverse_logo.png)"
   ]
  },
  {
   "cell_type": "markdown",
   "id": "humanitarian-headquarters",
   "metadata": {},
   "source": [
    "## Swift Normalase® Amplicon SARS-CoV-2 Panel (SNAP) Data Analysis Guidelines"
   ]
  },
  {
   "cell_type": "markdown",
   "id": "instructional-replacement",
   "metadata": {},
   "source": [
    "![workflow](https://raw.githubusercontent.com/sateeshperi/cyverse-vice-sarscov2/main/src_files/workflow.png)"
   ]
  },
  {
   "cell_type": "markdown",
   "id": "agricultural-rhythm",
   "metadata": {},
   "source": [
    "## Steps to Run Analysis:"
   ]
  },
  {
   "cell_type": "markdown",
   "id": "outstanding-cruise",
   "metadata": {},
   "source": [
    "> Files loaded by default when launching this app:\n",
    ">> + Reference sequences `swift_sarscov2_ref_genomes`\n",
    ">> + Bash script `run_swift_sarscov2_conda.sh` \n",
    ">> + Masterfile-V2 `sarscov2_v2_masterfile.txt`"
   ]
  },
  {
   "cell_type": "markdown",
   "id": "intense-physiology",
   "metadata": {},
   "source": [
    "### 1) Download FASTQ files of samples into current `data/` directory.\n",
    "\n",
    "### **To download files from CyVerse Data Store; in a Terminal type `iinit` and give your cyverse password for authentication**"
   ]
  },
  {
   "cell_type": "markdown",
   "id": "systematic-implementation",
   "metadata": {},
   "source": [
    "`iget -K -r /iplant/home/shared/iplantcollaborative/example_data/swift_sarscov2_test_data`\n",
    "\n",
    "`mv swift_sarscov2_test_data/* .`\n",
    "\n",
    "`rmdir swift_sarscov2_test_data`"
   ]
  },
  {
   "cell_type": "markdown",
   "id": "brown-eight",
   "metadata": {},
   "source": [
    "### 2) Run the pipeline with full **variant-calling workflow** including metrics coverage (Recommended)"
   ]
  },
  {
   "cell_type": "markdown",
   "id": "better-richards",
   "metadata": {},
   "source": [
    "`bash run_swift_sarscov2_conda.sh -v sarscov2_v2_masterfile.txt`"
   ]
  },
  {
   "cell_type": "markdown",
   "id": "auburn-family",
   "metadata": {},
   "source": [
    "--------------"
   ]
  },
  {
   "cell_type": "markdown",
   "id": "continuing-number",
   "metadata": {},
   "source": [
    "### Understanding Pipeline Results and Output\n",
    "Below is a summary of pipeline example results and outputs. The three “run-level” (all samples summary) reports for quick results are:\n",
    "\n",
    "1. The Excel file summarizes panel performance for metrics, including `%Aligned`, `PCT_10X`, `Mean_Coverage`, `%Coverage Uniformity`, `%Dimers`, and `%Human_Aligned`.\n",
    "2. Nextclade clade (lineage) identification report.\n",
    "3. Pangolin variant designation report"
   ]
  },
  {
   "cell_type": "markdown",
   "id": "alike-playing",
   "metadata": {},
   "source": [
    "#### Additional “per sample” result files and their respective folder/directory (dirname/) are as follows:\n",
    "+ Fastqc (.html): fastqc/\n",
    "+ Alignment files (.bam & .bai): bam/\n",
    "+ Picard target PCR metrics (.txt): metrics/\n",
    "+ Per-amplicon coverage plots (.pdf): plots/\n",
    "+ GATK HaplotypeCaller variant call files (*gatkHC.vcf): vcf/\n",
    "+ Bcftools consensus fasta (.fa): consensus/\n",
    "+ Nextclade and Pangolin QC (.csv): nextclade/, pangolin/\n",
    "+ Standard out from each processing step is saved with respective tool’s name appended log file which can be found in the logs/ folder."
   ]
  },
  {
   "cell_type": "markdown",
   "id": "sudden-majority",
   "metadata": {},
   "source": [
    "-------------------"
   ]
  },
  {
   "cell_type": "markdown",
   "id": "appointed-utility",
   "metadata": {},
   "source": [
    "To Run the Pipeline for **metrics coverage**"
   ]
  },
  {
   "cell_type": "code",
   "execution_count": null,
   "id": "working-omaha",
   "metadata": {},
   "outputs": [],
   "source": [
    "#%%bash\n",
    "#bash run_swift_sarscov2_conda.sh -m sarscov2_v2_masterfile.txt"
   ]
  },
  {
   "cell_type": "markdown",
   "id": "level-baghdad",
   "metadata": {},
   "source": [
    "To download the Swift Sarscov2 analysis reference sequences from CyVerse Data-Store"
   ]
  },
  {
   "cell_type": "code",
   "execution_count": null,
   "id": "declared-forestry",
   "metadata": {},
   "outputs": [],
   "source": [
    "#%%bash\n",
    "#iget -K -r /iplant/home/shared/iplantcollaborative/example_data/swift_sarscov2_ref_genomes"
   ]
  }
 ],
 "metadata": {
  "kernelspec": {
   "display_name": "Python 3",
   "language": "python",
   "name": "python3"
  },
  "language_info": {
   "codemirror_mode": {
    "name": "ipython",
    "version": 3
   },
   "file_extension": ".py",
   "mimetype": "text/x-python",
   "name": "python",
   "nbconvert_exporter": "python",
   "pygments_lexer": "ipython3",
   "version": "3.7.10"
  }
 },
 "nbformat": 4,
 "nbformat_minor": 5
}
